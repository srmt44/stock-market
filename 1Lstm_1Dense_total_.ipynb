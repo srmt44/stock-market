{
 "cells": [
  {
   "cell_type": "code",
   "execution_count": 1,
   "metadata": {},
   "outputs": [],
   "source": [
    "import pandas as pd\n",
    "import numpy as np\n",
    "import tensorflow as tf\n",
    "from tensorboard.plugins.hparams import api as hp\n",
    "from tensorflow import keras\n",
    "import matplotlib as mpl\n",
    "import matplotlib.pyplot as plt\n",
    "import glob\n",
    "import os\n",
    "import copy\n",
    "mpl.rcParams['figure.figsize'] = (6, 4)\n",
    "mpl.rcParams['axes.grid'] = False"
   ]
  },
  {
   "cell_type": "code",
   "execution_count": 2,
   "metadata": {},
   "outputs": [],
   "source": [
    "# reading the data into data frames using pandas\n",
    "\"\"\"\n",
    "data_csv is a list of 10 data frames holding a [2,] list for each symboL\n",
    "the first one (for example data_csv[i][0] ) is the name of the symbol and\n",
    "the second one (for example data_csv[i][1] ) is the data assosiated to it\n",
    "\"\"\"\n",
    "data_csv = []\n",
    "i = 0\n",
    "for filename in glob.glob('data/*.csv'):\n",
    "    data_csv.append([filename[5:len(filename)-4],pd.read_csv(filename).drop(\"<TICKER>\",1)])\n",
    "    i+=1\n",
    "# print(data_csv[0][0])\n",
    "# data_csv[0][1].head()"
   ]
  },
  {
   "cell_type": "code",
   "execution_count": 3,
   "metadata": {},
   "outputs": [
    {
     "data": {
      "text/plain": [
       "array([<matplotlib.axes._subplots.AxesSubplot object at 0x00000124EED1DC18>],\n",
       "      dtype=object)"
      ]
     },
     "execution_count": 3,
     "metadata": {},
     "output_type": "execute_result"
    },
    {
     "data": {
      "image/png": "[encoded data removed]",
      "text/plain": [
       "<Figure size 432x288 with 1 Axes>"
      ]
     },
     "metadata": {
      "needs_background": "light"
     },
     "output_type": "display_data"
    }
   ],
   "source": [
    "data_frame = 10\n",
    "features = data_csv[data_frame][1][['<CLOSE>']]\n",
    "# features.index = data_csv[data_frame][1]['<DTYYYYMMDD>']\n",
    "# features.head()\n",
    "features.plot(subplots=True)"
   ]
  },
  {
   "cell_type": "code",
   "execution_count": 4,
   "metadata": {},
   "outputs": [],
   "source": [
    "def trun_to_windows(input,kernel):\n",
    "    data = []\n",
    "    labels = []\n",
    "    for i in range(0,len(input)-kernel):\n",
    "        data.append(input[i:i+kernel])\n",
    "        labels.append(input[i+kernel])\n",
    "    return np.array(data),np.array(labels).reshape((len(labels),1))"
   ]
  },
  {
   "cell_type": "code",
   "execution_count": 5,
   "metadata": {},
   "outputs": [],
   "source": [
    "data,labels = trun_to_windows(features.values,20)\n",
    "data_std = np.std(data)\n",
    "data_mean = np.mean(data)\n",
    "labels_std = np.std(labels)\n",
    "labels_mean = np.mean(labels)\n",
    "# data_back = copy.deepcopy(data)\n",
    "# labels_back = copy.deepcopy(labels)"
   ]
  },
  {
   "cell_type": "code",
   "execution_count": 6,
   "metadata": {},
   "outputs": [
    {
     "data": {
      "text/plain": [
       "((2671, 20, 1), (2671, 1))"
      ]
     },
     "execution_count": 6,
     "metadata": {},
     "output_type": "execute_result"
    }
   ],
   "source": [
    "data.shape,labels.shape"
   ]
  },
  {
   "cell_type": "code",
   "execution_count": 10,
   "metadata": {},
   "outputs": [
    {
     "name": "stdout",
     "output_type": "stream",
     "text": [
      "Train on 2671 samples\n",
      "Epoch 1/8\n",
      "2671/2671 [==============================] - 8s 3ms/sample - loss: 72449.7657\n",
      "Epoch 2/8\n",
      "2671/2671 [==============================] - 5s 2ms/sample - loss: 64368.0802\n",
      "Epoch 3/8\n",
      "2671/2671 [==============================] - 5s 2ms/sample - loss: 45944.1007\n",
      "Epoch 4/8\n",
      "2671/2671 [==============================] - 5s 2ms/sample - loss: 6144.5976\n",
      "Epoch 5/8\n",
      "2671/2671 [==============================] - 5s 2ms/sample - loss: 2022.6781\n",
      "Epoch 6/8\n",
      "2671/2671 [==============================] - 7s 3ms/sample - loss: 2115.8531\n",
      "Epoch 7/8\n",
      "2671/2671 [==============================] - 6s 2ms/sample - loss: 1997.3626\n",
      "Epoch 8/8\n",
      "2671/2671 [==============================] - 6s 2ms/sample - loss: 1936.4848\n"
     ]
    }
   ],
   "source": [
    "model = keras.Sequential()\n",
    "model.add(keras.layers.LSTM(20, activation='relu',return_sequences = True, input_shape=data[0].shape))\n",
    "model.add(keras.layers.LSTM(20, activation='relu'))\n",
    "model.add(keras.layers.Dense(1))\n",
    "model.compile(optimizer='adam', loss='mae')\n",
    "hist = model.fit(data,labels,epochs=8,batch_size=32)"
   ]
  },
  {
   "cell_type": "code",
   "execution_count": 12,
   "metadata": {},
   "outputs": [
    {
     "data": {
      "text/plain": [
       "<matplotlib.legend.Legend at 0x125836c66d8>"
      ]
     },
     "execution_count": 12,
     "metadata": {},
     "output_type": "execute_result"
    },
    {
     "data": {
      "image/png": "[encoded data removed]",
      "text/plain": [
       "<Figure size 432x288 with 1 Axes>"
      ]
     },
     "metadata": {
      "needs_background": "light"
     },
     "output_type": "display_data"
    }
   ],
   "source": [
    "pred = []\n",
    "i = 2111\n",
    "gathered_data = list(data[i].reshape((20)))\n",
    "for j in range(20):\n",
    "    pred = model.predict(np.float32(np.array(gathered_data[j:j+20]).reshape((1,20,1))))\n",
    "    gathered_data.append(int(pred[0]))\n",
    "plt.plot(data[i])\n",
    "plt.scatter(range(20,40),gathered_data[20:40],s=6,label=\"pred\")\n",
    "plt.plot(range(20,40),data[20+i],label=\"real\")\n",
    "plt.legend()"
   ]
  },
  {
   "cell_type": "code",
   "execution_count": null,
   "metadata": {},
   "outputs": [],
   "source": []
  },
  {
   "cell_type": "code",
   "execution_count": null,
   "metadata": {},
   "outputs": [],
   "source": []
  }
 ],
 "metadata": {
  "kernelspec": {
   "display_name": "Python 3",
   "language": "python",
   "name": "python3"
  },
  "language_info": {
   "codemirror_mode": {
    "name": "ipython",
    "version": 3
   },
   "file_extension": ".py",
   "mimetype": "text/x-python",
   "name": "python",
   "nbconvert_exporter": "python",
   "pygments_lexer": "ipython3",
   "version": "3.6.9"
  }
 },
 "nbformat": 4,
 "nbformat_minor": 4
}
