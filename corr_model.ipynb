{
 "nbformat": 4,
 "nbformat_minor": 2,
 "metadata": {
  "language_info": {
   "name": "python",
   "codemirror_mode": {
    "name": "ipython",
    "version": 3
   },
   "version": "3.7.3-final"
  },
  "orig_nbformat": 2,
  "file_extension": ".py",
  "mimetype": "text/x-python",
  "name": "python",
  "npconvert_exporter": "python",
  "pygments_lexer": "ipython3",
  "version": 3,
  "kernelspec": {
   "name": "python37364bitcs231nconda7f823186a8f54e03a06ad09e8f226893",
   "display_name": "Python 3.7.3 64-bit ('cs231n': conda)"
  }
 },
 "cells": [
  {
   "cell_type": "code",
   "execution_count": null,
   "metadata": {},
   "outputs": [],
   "source": [
    "# importing libraries\n",
    "\n",
    "import tensorflow as tf\n",
    "import numpy as np\n",
    "import pandas as pd\n",
    "import glob"
   ]
  },
  {
   "cell_type": "code",
   "execution_count": null,
   "metadata": {},
   "outputs": [],
   "source": [
    "# defining params\n",
    "\n",
    "# W must be less than or equal to CorrW\n",
    "W = 20\n",
    "CorrW = 50 \n",
    "\n",
    "M = 0\n",
    "N = 0\n",
    "\n",
    "# 0-DateTime, 1-Close, 2-Open, 3-High, 4-Low, 5-Vol\n",
    "SD = 0\n",
    "\n",
    "# 0-DateTime, 1-Close, 2-Open\n",
    "MD = 1"
   ]
  },
  {
   "cell_type": "code",
   "execution_count": null,
   "metadata": {},
   "outputs": [],
   "source": [
    "stocks = np.load('prepared_data\\\\stocks.npy', allow_pickle=True)\n",
    "markets = np.load('prepared_data\\\\markets.npy', allow_pickle=True)\n",
    "\n",
    "print(stocks.shape)\n",
    "print(markets.shape)\n",
    "\n",
    "M = markets.shape[0]\n",
    "N = stocks.shape[0]"
   ]
  },
  {
   "cell_type": "code",
   "execution_count": null,
   "metadata": {},
   "outputs": [],
   "source": [
    "def build_corr_list(stock, market, CorrW):\n",
    "    market_corr = []\n",
    "    send = stock.shape[0] \n",
    "    mend = market.shape[0]\n",
    "    while (mend >= CorrW) and (send >= CorrW):\n",
    "        s_window = stock[send - CorrW : send]\n",
    "        m_window = market[mend - CorrW : mend]\n",
    "        corr_matrix = np.corrcoef(s_window, m_window)\n",
    "        corr = corr_matrix[0, 1]\n",
    "        market_corr.append(corr)\n",
    "        send -= 1\n",
    "        mend -= 1\n",
    "    return market_corr[::-1]\n",
    "\n",
    "def trim_2d_list(lst):\n",
    "    min_length = min([len(x) for x in lst])\n",
    "    for i in range(len(lst)):\n",
    "        lst[i] = lst[i][-min_length:]"
   ]
  },
  {
   "cell_type": "code",
   "execution_count": null,
   "metadata": {},
   "outputs": [],
   "source": [
    "all_data = []\n",
    "\n",
    "for i in range(N):\n",
    "    # Build a 2D list contatining all the correlations between this stock and all the markets.\n",
    "    markets_corr = [] \n",
    "    for j in range(M):\n",
    "        corr_list = build_corr_list(stocks[i][:, SD], markets[j][:, MD], CorrW)\n",
    "        markets_corr.append(corr_list)\n",
    "    trim_2d_list(markets_corr)\n",
    "\n",
    "    # Trimming this stock and all the markets\n",
    "    X = len(markets_corr[0])\n",
    "    stock_close = stocks[i][-X:, 1]\n",
    "    stock_open = stocks[i][-X:, 2]\n",
    "    stock_high = stocks[i][-X:, 3]\n",
    "    stock_low = stocks[i][-X:, 4]\n",
    "    stock_vol = stocks[i][-X:, 5]\n",
    "    trim_markets = []\n",
    "    for j in range(M):\n",
    "        trim_markets.append(markets[j][-X:, MD])\n",
    "\n",
    "    # Concatenate all the previous parts\n",
    "    data = [stock_close, stock_open, stock_high, stock_low, stock_vol, markets_corr, trim_markets]\n",
    "    all_data.append(data)\n",
    "\n",
    "    print('{} of {} done'.format(i + 1, N))\n",
    "    if (i % 10 == 9) or (i == N - 1):\n",
    "        np.save('./prepared_data/stocks_correlations_markets_{}'.format((i // 10) + 1), all_data)\n",
    "        all_data = []\n"
   ]
  }
 ]
}