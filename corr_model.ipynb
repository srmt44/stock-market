{
 "nbformat": 4,
 "nbformat_minor": 2,
 "metadata": {
  "language_info": {
   "name": "python",
   "codemirror_mode": {
    "name": "ipython",
    "version": 3
   },
   "version": "3.7.3-final"
  },
  "orig_nbformat": 2,
  "file_extension": ".py",
  "mimetype": "text/x-python",
  "name": "python",
  "npconvert_exporter": "python",
  "pygments_lexer": "ipython3",
  "version": 3,
  "kernelspec": {
   "name": "python37364bitcs231nconda7f823186a8f54e03a06ad09e8f226893",
   "display_name": "Python 3.7.3 64-bit ('cs231n': conda)"
  }
 },
 "cells": [
  {
   "cell_type": "code",
   "execution_count": 1,
   "metadata": {},
   "outputs": [],
   "source": [
    "# importing libraries\n",
    "\n",
    "import tensorflow as tf\n",
    "import numpy as np\n",
    "import pandas as pd\n",
    "import glob"
   ]
  },
  {
   "cell_type": "code",
   "execution_count": 15,
   "metadata": {},
   "outputs": [],
   "source": [
    "# defining params\n",
    "# W must be less than or equal to CorrW\n",
    "\n",
    "W = 20\n",
    "CorrW = 50 \n",
    "\n",
    "M = 0\n",
    "N = 0\n",
    "\n",
    "MD = 0\n",
    "SD = 0"
   ]
  },
  {
   "cell_type": "code",
   "execution_count": 16,
   "metadata": {},
   "outputs": [
    {
     "name": "stdout",
     "output_type": "stream",
     "text": "(572,)\n(51,)\n"
    }
   ],
   "source": [
    "stocks = np.load('prepared_data\\\\stocks.npy', allow_pickle=True)\n",
    "markets = np.load('prepared_data\\\\markets.npy', allow_pickle=True)\n",
    "\n",
    "print(stocks.shape)\n",
    "print(markets.shape)\n",
    "\n",
    "M = markets.shape[0]\n",
    "N = stocks.shape[0]"
   ]
  },
  {
   "cell_type": "code",
   "execution_count": 28,
   "metadata": {},
   "outputs": [],
   "source": [
    "def build_corr_list(stock, market, CorrW):\n",
    "    market_corr = []\n",
    "    send = stock.shape[0] \n",
    "    mend = market.shape[0]\n",
    "    while (mend >= CorrW) and (send >= CorrW):\n",
    "        s_window = stock[send - CorrW : send]\n",
    "        m_window = market[mend - CorrW : mend]\n",
    "        corr_matrix = np.corrcoef(s_window, m_window)\n",
    "        corr = corr_matrix[0, 1]\n",
    "        market_corr.append(corr)\n",
    "        send -= 1\n",
    "        mend -= 1\n",
    "    return market_corr[::-1]\n",
    "\n",
    "def trim_2d_list(lst):\n",
    "    min_length = min([len(x) for x in lst])\n",
    "    for i in range(len(lst)):\n",
    "        lst[i] = lst[i][-min_length:]\n",
    "\n",
    "def get_market_windows(market, W, X):\n",
    "    market_windows = []\n",
    "    for i in range(X):\n",
    "        market_window = market[i:i+W]\n",
    "    return market_windows"
   ]
  },
  {
   "cell_type": "code",
   "execution_count": 27,
   "metadata": {},
   "outputs": [
    {
     "name": "stdout",
     "output_type": "stream",
     "text": "1119\n1119\n1119\n1119\n1119\n1119\n1119\n1119\n1119\n1119\n1119\n1119\n1119\n1119\n1119\n1119\n1119\n1119\n1119\n1119\n1119\n1119\n1119\n1119\n1119\n1119\n1119\n1119\n1119\n1119\n1119\n1119\n1119\n1119\n1119\n1119\n1119\n1119\n1119\n1119\n1119\n1119\n1119\n1119\n1119\n1119\n1119\n1119\n1119\n1119\n1119\n"
    }
   ],
   "source": [
    "all_data = []\n",
    "\n",
    "for i in range(N):\n",
    "\n",
    "\n",
    "    markets_corr = [] \n",
    "    for j in range(M):\n",
    "        corr_list = build_corr_list(stocks[i][:, SD], markets[j][:, MD], CorrW)\n",
    "        markets_corr.append(corr_list)\n",
    "\n",
    "    trim_2d_list(markets_corr)\n",
    "\n",
    "    X = len(markets_corr[0])\n",
    "\n",
    "    trim_stock = stock[i][-X:]\n",
    "\n",
    "    trim_markets = []\n",
    "    for j in range(M):\n",
    "        trim_markets.append(markets[j][-X:])\n",
    "\n",
    "\n",
    "    break\n",
    "    all_data.append(market_corr)"
   ]
  },
  {
   "cell_type": "code",
   "execution_count": null,
   "metadata": {},
   "outputs": [],
   "source": []
  },
  {
   "cell_type": "code",
   "execution_count": null,
   "metadata": {},
   "outputs": [],
   "source": []
  }
 ]
}