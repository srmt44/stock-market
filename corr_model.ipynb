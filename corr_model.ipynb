{
 "nbformat": 4,
 "nbformat_minor": 2,
 "metadata": {
  "language_info": {
   "name": "python",
   "codemirror_mode": {
    "name": "ipython",
    "version": 3
   },
   "version": "3.7.3-final"
  },
  "orig_nbformat": 2,
  "file_extension": ".py",
  "mimetype": "text/x-python",
  "name": "python",
  "npconvert_exporter": "python",
  "pygments_lexer": "ipython3",
  "version": 3,
  "kernelspec": {
   "name": "python37364bitcs231nconda7f823186a8f54e03a06ad09e8f226893",
   "display_name": "Python 3.7.3 64-bit ('cs231n': conda)"
  }
 },
 "cells": [
  {
   "cell_type": "code",
   "execution_count": 1,
   "metadata": {},
   "outputs": [],
   "source": [
    "# importing libraries\n",
    "\n",
    "import tensorflow as tf\n",
    "import numpy as np\n",
    "import pandas as pd\n",
    "import glob"
   ]
  },
  {
   "cell_type": "code",
   "execution_count": 2,
   "metadata": {},
   "outputs": [],
   "source": [
    "# defining params\n",
    "\n",
    "# W must be less than or equal to CorrW\n",
    "W = 20\n",
    "CorrW = 50\n",
    "F = 5 \n",
    "\n",
    "M = 0\n",
    "N = 0\n",
    "\n",
    "# 0-DateTime, 1-Close, 2-Open, 3-High, 4-Low, 5-Vol\n",
    "SD = 0\n",
    "\n",
    "# 0-DateTime, 1-Close, 2-Open\n",
    "MD = 1"
   ]
  },
  {
   "cell_type": "code",
   "execution_count": 3,
   "metadata": {},
   "outputs": [],
   "source": [
    "# files and dirs\n",
    "\n",
    "raw_stocks = './prepared_data/stocks.npy'\n",
    "raw_markets = './prepared_data/markets.npy'\n",
    "raw_data = './prepared_data/stocks_correlations_markets_{}.npy'\n",
    "dataset_file = './prepared_data/dataset_{}.npy'\n",
    "single_records = './data_records/record_{}.npy'\n",
    "final_file = 'dataset.tfrecords'\n"
   ]
  },
  {
   "cell_type": "code",
   "execution_count": 4,
   "metadata": {},
   "outputs": [
    {
     "name": "stdout",
     "output_type": "stream",
     "text": "(572,)\n(51,)\n"
    }
   ],
   "source": [
    "stocks = np.load(raw_stocks, allow_pickle=True)\n",
    "markets = np.load(raw_markets, allow_pickle=True)\n",
    "\n",
    "print(stocks.shape)\n",
    "print(markets.shape)\n",
    "\n",
    "M = markets.shape[0]\n",
    "N = stocks.shape[0]"
   ]
  },
  {
   "cell_type": "code",
   "execution_count": 5,
   "metadata": {},
   "outputs": [],
   "source": [
    "\"\"\"\n",
    "This section holds the definition of some utility functions which we use later.\n",
    "\"\"\"\n",
    "\n",
    "def build_corr_list(stock, market, CorrW):\n",
    "    market_corr = []\n",
    "    send = stock.shape[0] \n",
    "    mend = market.shape[0]\n",
    "    while (mend >= CorrW) and (send >= CorrW):\n",
    "        s_window = stock[send - CorrW : send]\n",
    "        m_window = market[mend - CorrW : mend]\n",
    "        corr_matrix = np.corrcoef(s_window, m_window)\n",
    "        corr = corr_matrix[0, 1]\n",
    "        market_corr.append(corr)\n",
    "        send -= 1\n",
    "        mend -= 1\n",
    "    return market_corr[::-1]\n",
    "\n",
    "def trim_2d_list(lst):\n",
    "    min_length = min([len(x) for x in lst])\n",
    "    for i in range(len(lst)):\n",
    "        lst[i] = lst[i][-min_length:]\n",
    "\n",
    "def save_to_file(data, labels, filename):\n",
    "    writer = tf.data.experimental.TFRecordWriter(filename)\n",
    "    dataset = tf.data.Dataset.from_tensor_slices((data, labels))\n",
    "    dataset = dataset.map(tf.io.serialize_tensor)\n",
    "    print('done')\n",
    "    print(dataset)\n",
    "    writer.write(dataset)\n",
    "    return [], []"
   ]
  },
  {
   "cell_type": "code",
   "execution_count": null,
   "metadata": {},
   "outputs": [],
   "source": [
    "all_data = []\n",
    "\n",
    "for i in range(257, N):\n",
    "    # Build a 2D list contatining all the correlations between this stock and all the markets.\n",
    "    markets_corr = [] \n",
    "    for j in range(M):\n",
    "        corr_list = build_corr_list(stocks[i][:, SD], markets[j][:, MD], CorrW)\n",
    "        markets_corr.append(corr_list)\n",
    "    trim_2d_list(markets_corr)\n",
    "\n",
    "    # Trimming this stock and all the markets\n",
    "    X = len(markets_corr[0])\n",
    "    stock_close = stocks[i][-X:, 1]\n",
    "    stock_open = stocks[i][-X:, 2]\n",
    "    stock_high = stocks[i][-X:, 3]\n",
    "    stock_low = stocks[i][-X:, 4]\n",
    "    stock_vol = stocks[i][-X:, 5]\n",
    "    trim_markets = []\n",
    "    for j in range(M):\n",
    "        trim_markets.append(markets[j][-X:, MD])\n",
    "\n",
    "    # Concatenate all the previous parts\n",
    "    data = [stock_close, stock_open, stock_high, stock_low, stock_vol, *markets_corr, *trim_markets]\n",
    "\n",
    "    print('{} of {} done'.format(i + 1, N))\n",
    "    np.save(raw_data.format(i + 1), data)"
   ]
  },
  {
   "cell_type": "code",
   "execution_count": 11,
   "metadata": {},
   "outputs": [
    {
     "name": "stdout",
     "output_type": "stream",
     "text": "1 done.\n2 done.\n3 done.\n4 done.\n5 done.\n6 done.\n7 done.\n8 done.\n9 done.\n10 done.\n11 done.\n12 done.\n13 done.\n14 done.\n15 done.\n16 done.\n17 done.\n18 done.\n19 done.\n20 done.\n21 done.\n22 done.\n23 done.\n24 done.\n25 done.\n26 done.\n27 done.\n28 done.\n29 done.\n30 done.\n31 done.\n32 done.\n33 done.\n34 done.\n35 done.\n36 done.\n37 done.\n38 done.\n39 done.\n40 done.\n41 done.\n42 done.\n43 done.\n44 done.\n45 done.\n46 done.\n47 done.\n48 done.\n49 done.\n50 done.\n51 done.\n52 done.\n53 done.\n54 done.\n55 done.\n56 done.\n57 done.\n58 done.\n59 done.\n60 done.\n61 done.\n62 done.\n63 done.\n64 done.\n65 done.\n66 done.\n67 done.\n68 done.\n69 done.\n70 done.\n71 done.\n72 done.\n73 done.\n74 done.\n75 done.\n76 done.\n77 done.\n78 done.\n79 done.\n80 done.\n81 done.\n82 done.\n83 done.\n84 done.\n85 done.\n86 done.\n87 done.\n88 done.\n89 done.\n90 done.\n91 done.\n92 done.\n93 done.\n94 done.\n95 done.\n96 done.\n97 done.\n98 done.\n99 done.\n100 done.\n101 done.\n102 done.\n103 done.\n104 done.\n"
    },
    {
     "ename": "KeyboardInterrupt",
     "evalue": "",
     "output_type": "error",
     "traceback": [
      "\u001b[1;31m---------------------------------------------------------------------------\u001b[0m",
      "\u001b[1;31mKeyboardInterrupt\u001b[0m                         Traceback (most recent call last)",
      "\u001b[1;32m<ipython-input-11-223ec4b159d5>\u001b[0m in \u001b[0;36m<module>\u001b[1;34m\u001b[0m\n\u001b[0;32m      8\u001b[0m             \u001b[1;32mcontinue\u001b[0m\u001b[1;33m\u001b[0m\u001b[1;33m\u001b[0m\u001b[0m\n\u001b[0;32m      9\u001b[0m         \u001b[1;32mwhile\u001b[0m \u001b[0mindex\u001b[0m \u001b[1;33m+\u001b[0m \u001b[0mW\u001b[0m \u001b[1;33m+\u001b[0m \u001b[0mF\u001b[0m \u001b[1;33m<\u001b[0m \u001b[0mraw\u001b[0m\u001b[1;33m.\u001b[0m\u001b[0mshape\u001b[0m\u001b[1;33m[\u001b[0m\u001b[1;36m1\u001b[0m\u001b[1;33m]\u001b[0m\u001b[1;33m:\u001b[0m\u001b[1;33m\u001b[0m\u001b[1;33m\u001b[0m\u001b[0m\n\u001b[1;32m---> 10\u001b[1;33m             \u001b[0mx\u001b[0m \u001b[1;33m=\u001b[0m \u001b[0mnp\u001b[0m\u001b[1;33m.\u001b[0m\u001b[0marray\u001b[0m\u001b[1;33m(\u001b[0m\u001b[0mraw\u001b[0m\u001b[1;33m[\u001b[0m\u001b[1;33m:\u001b[0m\u001b[1;33m,\u001b[0m \u001b[0mindex\u001b[0m\u001b[1;33m:\u001b[0m\u001b[0mindex\u001b[0m\u001b[1;33m+\u001b[0m\u001b[0mW\u001b[0m\u001b[1;33m]\u001b[0m\u001b[1;33m)\u001b[0m\u001b[1;33m\u001b[0m\u001b[1;33m\u001b[0m\u001b[0m\n\u001b[0m\u001b[0;32m     11\u001b[0m             \u001b[0my\u001b[0m \u001b[1;33m=\u001b[0m \u001b[0mnp\u001b[0m\u001b[1;33m.\u001b[0m\u001b[0marray\u001b[0m\u001b[1;33m(\u001b[0m\u001b[0mraw\u001b[0m\u001b[1;33m[\u001b[0m\u001b[1;36m0\u001b[0m\u001b[1;33m,\u001b[0m \u001b[0mindex\u001b[0m\u001b[1;33m+\u001b[0m\u001b[0mW\u001b[0m\u001b[1;33m:\u001b[0m\u001b[0mindex\u001b[0m\u001b[1;33m+\u001b[0m\u001b[0mW\u001b[0m\u001b[1;33m+\u001b[0m\u001b[0mF\u001b[0m\u001b[1;33m]\u001b[0m\u001b[1;33m)\u001b[0m\u001b[1;33m\u001b[0m\u001b[1;33m\u001b[0m\u001b[0m\n\u001b[0;32m     12\u001b[0m             \u001b[0mrecord\u001b[0m \u001b[1;33m=\u001b[0m \u001b[0mnp\u001b[0m\u001b[1;33m.\u001b[0m\u001b[0marray\u001b[0m\u001b[1;33m(\u001b[0m\u001b[1;33m[\u001b[0m\u001b[0mx\u001b[0m\u001b[1;33m,\u001b[0m \u001b[0my\u001b[0m\u001b[1;33m]\u001b[0m\u001b[1;33m)\u001b[0m\u001b[1;33m\u001b[0m\u001b[1;33m\u001b[0m\u001b[0m\n",
      "\u001b[1;31mKeyboardInterrupt\u001b[0m: "
     ]
    }
   ],
   "source": [
    "data, labels = [], []\n",
    "for i in range(1, 573):\n",
    "    index = 0\n",
    "    raw = np.load(raw_data.format(i))\n",
    "    if len(raw) < W:\n",
    "        continue\n",
    "    while index + W + F < raw.shape[1]:\n",
    "        x = np.array(raw[:, index:index+W])\n",
    "        y = np.array(raw[0, index+W:index+W+F])\n",
    "        data.append(x)\n",
    "        labels.append(y)\n",
    "        index += 1\n",
    "    print('{} done.'.format(i))\n",
    "    if (i % 50 == 0) or (i == 572):\n",
    "        data = np.array(data)\n",
    "        labels = np.array(labels)\n",
    "        print(data.shape)\n",
    "        print(labels.shape)\n",
    "        np.save(dataset_file.format('x' + str(i)), data)\n",
    "        np.save(dataset_file.format('y' + str(i)), labels)\n",
    "        data, labels = [], []"
   ]
  },
  {
   "cell_type": "code",
   "execution_count": 13,
   "metadata": {},
   "outputs": [],
   "source": [
    "rows, cols = 107, 20\n",
    "test_num = 12000\n",
    "\n",
    "def get_data():\n",
    "    for i in range(1, 13):\n",
    "        x_batch = np.load(dataset_file.format('x' + str(i)))\n",
    "        y_batch = np.load(dataset_file.format('y' + str(i)))\n",
    "        for j in range(x_batch.shape[0]):\n",
    "            yield (x_batch[j], y_batch[j])\n",
    "\n",
    "dataset = tf.data.Dataset.from_generator(get_data, output_types=(tf.float32, tf.float32), output_shapes=((rows, cols), (F, )))\n",
    "dataset = dataset.shuffle(1024)\n",
    "test_set = dataset.take(test_num)\n",
    "train_set = dataset.skip(test_num)\n",
    "\n",
    "train_set = train_set.shuffle(1024).batch(256)\n"
   ]
  },
  {
   "cell_type": "code",
   "execution_count": null,
   "metadata": {},
   "outputs": [],
   "source": []
  }
 ]
}