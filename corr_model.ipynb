{
 "nbformat": 4,
 "nbformat_minor": 2,
 "metadata": {
  "language_info": {
   "name": "python",
   "codemirror_mode": {
    "name": "ipython",
    "version": 3
   },
   "version": "3.7.3-final"
  },
  "orig_nbformat": 2,
  "file_extension": ".py",
  "mimetype": "text/x-python",
  "name": "python",
  "npconvert_exporter": "python",
  "pygments_lexer": "ipython3",
  "version": 3,
  "kernelspec": {
   "name": "python37364bitcs231nconda7f823186a8f54e03a06ad09e8f226893",
   "display_name": "Python 3.7.3 64-bit ('cs231n': conda)"
  }
 },
 "cells": [
  {
   "cell_type": "code",
   "execution_count": 2,
   "metadata": {},
   "outputs": [],
   "source": [
    "# importing libraries\n",
    "\n",
    "import tensorflow as tf\n",
    "import numpy as np\n",
    "import pandas as pd\n",
    "import glob"
   ]
  },
  {
   "cell_type": "code",
   "execution_count": 2,
   "metadata": {},
   "outputs": [],
   "source": [
    "# defining params\n",
    "\n",
    "# W must be less than or equal to CorrW\n",
    "W = 20\n",
    "CorrW = 50\n",
    "F = 5 \n",
    "\n",
    "M = 0\n",
    "N = 0\n",
    "\n",
    "# 0-DateTime, 1-Close, 2-Open, 3-High, 4-Low, 5-Vol\n",
    "SD = 0\n",
    "\n",
    "# 0-DateTime, 1-Close, 2-Open\n",
    "MD = 1"
   ]
  },
  {
   "cell_type": "code",
   "execution_count": 4,
   "metadata": {},
   "outputs": [],
   "source": [
    "# files and dirs\n",
    "\n",
    "raw_stocks = './prepared_data/stocks.npy'\n",
    "raw_markets = './prepared_data/markets.npy'\n",
    "raw_data = './prepared_data/stocks_correlations_markets_{}.npy'\n",
    "dataset_file = './prepared_data/dataset_{}.npy'\n"
   ]
  },
  {
   "cell_type": "code",
   "execution_count": 4,
   "metadata": {},
   "outputs": [
    {
     "name": "stdout",
     "output_type": "stream",
     "text": "(572,)\n(51,)\n"
    }
   ],
   "source": [
    "stocks = np.load(raw_stocks, allow_pickle=True)\n",
    "markets = np.load(raw_markets, allow_pickle=True)\n",
    "\n",
    "print(stocks.shape)\n",
    "print(markets.shape)\n",
    "\n",
    "M = markets.shape[0]\n",
    "N = stocks.shape[0]"
   ]
  },
  {
   "cell_type": "code",
   "execution_count": 5,
   "metadata": {},
   "outputs": [],
   "source": [
    "\"\"\"\n",
    "This section holds the definition of some utility functions which we use later.\n",
    "\"\"\"\n",
    "\n",
    "def build_corr_list(stock, market, CorrW):\n",
    "    market_corr = []\n",
    "    send = stock.shape[0] \n",
    "    mend = market.shape[0]\n",
    "    while (mend >= CorrW) and (send >= CorrW):\n",
    "        s_window = stock[send - CorrW : send]\n",
    "        m_window = market[mend - CorrW : mend]\n",
    "        corr_matrix = np.corrcoef(s_window, m_window)\n",
    "        corr = corr_matrix[0, 1]\n",
    "        market_corr.append(corr)\n",
    "        send -= 1\n",
    "        mend -= 1\n",
    "    return market_corr[::-1]\n",
    "\n",
    "def trim_2d_list(lst):\n",
    "    min_length = min([len(x) for x in lst])\n",
    "    for i in range(len(lst)):\n",
    "        lst[i] = lst[i][-min_length:]\n",
    "\n",
    "def save_to_file(data, labels, filename):\n",
    "    writer = tf.data.experimental.TFRecordWriter(filename)\n",
    "    dataset = tf.data.Dataset.from_tensor_slices((data, labels))\n",
    "    dataset = dataset.map(tf.io.serialize_tensor)\n",
    "    print('done')\n",
    "    print(dataset)\n",
    "    writer.write(dataset)\n",
    "    return [], []"
   ]
  },
  {
   "cell_type": "code",
   "execution_count": 37,
   "metadata": {},
   "outputs": [
    {
     "name": "stdout",
     "output_type": "stream",
     "text": "258 of 572 done\n259 of 572 done\n260 of 572 done\n261 of 572 done\n262 of 572 done\n263 of 572 done\n264 of 572 done\n265 of 572 done\n266 of 572 done\n267 of 572 done\n268 of 572 done\n269 of 572 done\n270 of 572 done\n271 of 572 done\n272 of 572 done\n273 of 572 done\n274 of 572 done\n275 of 572 done\n276 of 572 done\n277 of 572 done\n278 of 572 done\n279 of 572 done\n280 of 572 done\n281 of 572 done\n282 of 572 done\n283 of 572 done\n284 of 572 done\n285 of 572 done\n286 of 572 done\n287 of 572 done\n288 of 572 done\n289 of 572 done\n290 of 572 done\n291 of 572 done\n292 of 572 done\n293 of 572 done\n294 of 572 done\n295 of 572 done\n296 of 572 done\n297 of 572 done\n298 of 572 done\n299 of 572 done\n300 of 572 done\n301 of 572 done\n302 of 572 done\n303 of 572 done\n304 of 572 done\n305 of 572 done\n306 of 572 done\n307 of 572 done\n308 of 572 done\n309 of 572 done\n310 of 572 done\n311 of 572 done\n312 of 572 done\n313 of 572 done\n314 of 572 done\n315 of 572 done\n316 of 572 done\n317 of 572 done\n318 of 572 done\n319 of 572 done\n320 of 572 done\n321 of 572 done\n322 of 572 done\n323 of 572 done\n324 of 572 done\n325 of 572 done\n326 of 572 done\n327 of 572 done\n328 of 572 done\n329 of 572 done\n330 of 572 done\n331 of 572 done\n332 of 572 done\n333 of 572 done\n334 of 572 done\n335 of 572 done\n336 of 572 done\n337 of 572 done\n338 of 572 done\n339 of 572 done\n340 of 572 done\n341 of 572 done\n342 of 572 done\n343 of 572 done\n344 of 572 done\n345 of 572 done\n346 of 572 done\n347 of 572 done\n348 of 572 done\n349 of 572 done\n350 of 572 done\n351 of 572 done\n352 of 572 done\n353 of 572 done\n354 of 572 done\n355 of 572 done\n356 of 572 done\n357 of 572 done\n358 of 572 done\n359 of 572 done\n360 of 572 done\n361 of 572 done\n362 of 572 done\n363 of 572 done\n364 of 572 done\n365 of 572 done\n366 of 572 done\n367 of 572 done\n368 of 572 done\n369 of 572 done\n370 of 572 done\n371 of 572 done\n372 of 572 done\n373 of 572 done\n374 of 572 done\n375 of 572 done\n376 of 572 done\n377 of 572 done\n378 of 572 done\n379 of 572 done\n380 of 572 done\n381 of 572 done\n382 of 572 done\n383 of 572 done\n384 of 572 done\n385 of 572 done\n386 of 572 done\n387 of 572 done\n388 of 572 done\n389 of 572 done\n390 of 572 done\n391 of 572 done\n392 of 572 done\n393 of 572 done\n394 of 572 done\n395 of 572 done\n396 of 572 done\n397 of 572 done\n398 of 572 done\n399 of 572 done\n400 of 572 done\n401 of 572 done\n402 of 572 done\n403 of 572 done\n404 of 572 done\n405 of 572 done\n406 of 572 done\n407 of 572 done\n408 of 572 done\n409 of 572 done\n410 of 572 done\n411 of 572 done\n412 of 572 done\n413 of 572 done\n414 of 572 done\n415 of 572 done\n416 of 572 done\n417 of 572 done\n418 of 572 done\n419 of 572 done\n420 of 572 done\n421 of 572 done\n422 of 572 done\n423 of 572 done\n424 of 572 done\n425 of 572 done\n426 of 572 done\n427 of 572 done\n428 of 572 done\n429 of 572 done\n430 of 572 done\n431 of 572 done\n432 of 572 done\n433 of 572 done\n434 of 572 done\n435 of 572 done\n436 of 572 done\n437 of 572 done\n438 of 572 done\n439 of 572 done\n440 of 572 done\n441 of 572 done\n442 of 572 done\n443 of 572 done\n444 of 572 done\n445 of 572 done\n446 of 572 done\n447 of 572 done\n448 of 572 done\n449 of 572 done\n450 of 572 done\n451 of 572 done\n452 of 572 done\n453 of 572 done\n454 of 572 done\n455 of 572 done\n456 of 572 done\n457 of 572 done\n458 of 572 done\n459 of 572 done\n460 of 572 done\n461 of 572 done\n462 of 572 done\n463 of 572 done\n464 of 572 done\n465 of 572 done\n466 of 572 done\n467 of 572 done\n468 of 572 done\n469 of 572 done\n470 of 572 done\n471 of 572 done\n472 of 572 done\n473 of 572 done\n474 of 572 done\n475 of 572 done\n476 of 572 done\n477 of 572 done\n478 of 572 done\n479 of 572 done\n480 of 572 done\n481 of 572 done\n482 of 572 done\n483 of 572 done\n484 of 572 done\n485 of 572 done\n486 of 572 done\n487 of 572 done\n488 of 572 done\n489 of 572 done\n490 of 572 done\n491 of 572 done\n492 of 572 done\n493 of 572 done\n494 of 572 done\n495 of 572 done\n496 of 572 done\n497 of 572 done\n498 of 572 done\n499 of 572 done\n500 of 572 done\n501 of 572 done\n502 of 572 done\n503 of 572 done\n504 of 572 done\n505 of 572 done\n506 of 572 done\n507 of 572 done\n508 of 572 done\n509 of 572 done\n510 of 572 done\n511 of 572 done\n512 of 572 done\n513 of 572 done\n514 of 572 done\n515 of 572 done\n516 of 572 done\n517 of 572 done\n518 of 572 done\n519 of 572 done\n520 of 572 done\n521 of 572 done\n522 of 572 done\n523 of 572 done\n524 of 572 done\n525 of 572 done\n526 of 572 done\n527 of 572 done\n528 of 572 done\n529 of 572 done\n530 of 572 done\n531 of 572 done\n532 of 572 done\n533 of 572 done\n534 of 572 done\n535 of 572 done\n536 of 572 done\n537 of 572 done\n538 of 572 done\n539 of 572 done\n540 of 572 done\n541 of 572 done\n542 of 572 done\n543 of 572 done\n544 of 572 done\n545 of 572 done\n546 of 572 done\n547 of 572 done\n548 of 572 done\n549 of 572 done\n550 of 572 done\n551 of 572 done\n552 of 572 done\n553 of 572 done\n554 of 572 done\n555 of 572 done\n556 of 572 done\n557 of 572 done\n558 of 572 done\n559 of 572 done\n560 of 572 done\n561 of 572 done\n562 of 572 done\n563 of 572 done\n564 of 572 done\n565 of 572 done\n566 of 572 done\n567 of 572 done\n568 of 572 done\n569 of 572 done\n570 of 572 done\n571 of 572 done\n572 of 572 done\n"
    }
   ],
   "source": [
    "all_data = []\n",
    "\n",
    "for i in range(257, N):\n",
    "    # Build a 2D list contatining all the correlations between this stock and all the markets.\n",
    "    markets_corr = [] \n",
    "    for j in range(M):\n",
    "        corr_list = build_corr_list(stocks[i][:, SD], markets[j][:, MD], CorrW)\n",
    "        markets_corr.append(corr_list)\n",
    "    trim_2d_list(markets_corr)\n",
    "\n",
    "    # Trimming this stock and all the markets\n",
    "    X = len(markets_corr[0])\n",
    "    stock_close = stocks[i][-X:, 1]\n",
    "    stock_open = stocks[i][-X:, 2]\n",
    "    stock_high = stocks[i][-X:, 3]\n",
    "    stock_low = stocks[i][-X:, 4]\n",
    "    stock_vol = stocks[i][-X:, 5]\n",
    "    trim_markets = []\n",
    "    for j in range(M):\n",
    "        trim_markets.append(markets[j][-X:, MD])\n",
    "\n",
    "    # Concatenate all the previous parts\n",
    "    data = [stock_close, stock_open, stock_high, stock_low, stock_vol, *markets_corr, *trim_markets]\n",
    "\n",
    "    print('{} of {} done'.format(i + 1, N))\n",
    "    np.save(raw_data.format(i + 1), data)"
   ]
  },
  {
   "cell_type": "code",
   "execution_count": 7,
   "metadata": {},
   "outputs": [
    {
     "name": "stdout",
     "output_type": "stream",
     "text": "1 done.\n2 done.\n3 done.\n4 done.\n5 done.\n6 done.\n7 done.\n8 done.\n9 done.\n10 done.\n11 done.\n12 done.\n13 done.\n14 done.\n15 done.\n16 done.\n17 done.\n18 done.\n19 done.\n20 done.\n21 done.\n22 done.\n23 done.\n24 done.\n25 done.\n26 done.\n27 done.\n28 done.\n29 done.\n30 done.\n31 done.\n32 done.\n33 done.\n34 done.\n35 done.\n36 done.\n37 done.\n38 done.\n39 done.\n40 done.\n41 done.\n42 done.\n43 done.\n44 done.\n45 done.\n46 done.\n47 done.\n48 done.\n49 done.\n50 done.\n(53509, 107, 20)\n(53509, 5)\n51 done.\n52 done.\n53 done.\n54 done.\n55 done.\n56 done.\n57 done.\n58 done.\n59 done.\n60 done.\n61 done.\n62 done.\n63 done.\n64 done.\n65 done.\n66 done.\n67 done.\n68 done.\n69 done.\n70 done.\n71 done.\n72 done.\n73 done.\n74 done.\n75 done.\n76 done.\n77 done.\n78 done.\n79 done.\n80 done.\n81 done.\n82 done.\n83 done.\n84 done.\n85 done.\n86 done.\n87 done.\n88 done.\n89 done.\n90 done.\n91 done.\n92 done.\n93 done.\n94 done.\n95 done.\n96 done.\n97 done.\n98 done.\n99 done.\n100 done.\n(54496, 107, 20)\n(54496, 5)\n101 done.\n102 done.\n103 done.\n104 done.\n105 done.\n106 done.\n107 done.\n108 done.\n109 done.\n110 done.\n111 done.\n112 done.\n113 done.\n114 done.\n115 done.\n116 done.\n117 done.\n118 done.\n119 done.\n120 done.\n121 done.\n122 done.\n123 done.\n124 done.\n125 done.\n126 done.\n127 done.\n128 done.\n129 done.\n130 done.\n131 done.\n132 done.\n133 done.\n134 done.\n135 done.\n136 done.\n137 done.\n138 done.\n139 done.\n140 done.\n141 done.\n142 done.\n143 done.\n144 done.\n145 done.\n146 done.\n147 done.\n148 done.\n149 done.\n150 done.\n(54106, 107, 20)\n(54106, 5)\n151 done.\n152 done.\n153 done.\n154 done.\n155 done.\n156 done.\n157 done.\n158 done.\n159 done.\n160 done.\n161 done.\n162 done.\n163 done.\n164 done.\n165 done.\n166 done.\n167 done.\n168 done.\n169 done.\n170 done.\n171 done.\n172 done.\n173 done.\n174 done.\n175 done.\n176 done.\n177 done.\n178 done.\n179 done.\n180 done.\n181 done.\n182 done.\n183 done.\n184 done.\n185 done.\n186 done.\n187 done.\n188 done.\n189 done.\n190 done.\n191 done.\n192 done.\n193 done.\n194 done.\n195 done.\n196 done.\n197 done.\n198 done.\n199 done.\n200 done.\n(53902, 107, 20)\n(53902, 5)\n201 done.\n202 done.\n203 done.\n204 done.\n205 done.\n206 done.\n207 done.\n208 done.\n209 done.\n210 done.\n211 done.\n212 done.\n213 done.\n214 done.\n215 done.\n216 done.\n217 done.\n218 done.\n219 done.\n220 done.\n221 done.\n222 done.\n223 done.\n224 done.\n225 done.\n226 done.\n227 done.\n228 done.\n229 done.\n230 done.\n231 done.\n232 done.\n233 done.\n234 done.\n235 done.\n236 done.\n237 done.\n238 done.\n239 done.\n240 done.\n241 done.\n242 done.\n243 done.\n244 done.\n245 done.\n246 done.\n247 done.\n248 done.\n249 done.\n250 done.\n(53831, 107, 20)\n(53831, 5)\n251 done.\n252 done.\n253 done.\n254 done.\n255 done.\n256 done.\n257 done.\n258 done.\n259 done.\n260 done.\n261 done.\n262 done.\n263 done.\n264 done.\n265 done.\n266 done.\n267 done.\n268 done.\n269 done.\n270 done.\n271 done.\n272 done.\n273 done.\n274 done.\n275 done.\n276 done.\n277 done.\n278 done.\n279 done.\n280 done.\n281 done.\n282 done.\n283 done.\n284 done.\n285 done.\n286 done.\n287 done.\n288 done.\n289 done.\n290 done.\n291 done.\n292 done.\n293 done.\n294 done.\n295 done.\n296 done.\n297 done.\n298 done.\n299 done.\n300 done.\n(54328, 107, 20)\n(54328, 5)\n301 done.\n302 done.\n303 done.\n304 done.\n305 done.\n306 done.\n307 done.\n308 done.\n309 done.\n310 done.\n311 done.\n312 done.\n313 done.\n314 done.\n315 done.\n316 done.\n317 done.\n318 done.\n319 done.\n320 done.\n321 done.\n322 done.\n323 done.\n324 done.\n325 done.\n326 done.\n327 done.\n328 done.\n329 done.\n330 done.\n331 done.\n332 done.\n333 done.\n334 done.\n335 done.\n336 done.\n337 done.\n338 done.\n339 done.\n340 done.\n341 done.\n342 done.\n343 done.\n344 done.\n345 done.\n346 done.\n347 done.\n348 done.\n349 done.\n350 done.\n(52128, 107, 20)\n(52128, 5)\n351 done.\n352 done.\n353 done.\n354 done.\n355 done.\n356 done.\n357 done.\n358 done.\n359 done.\n360 done.\n361 done.\n362 done.\n363 done.\n364 done.\n365 done.\n366 done.\n367 done.\n368 done.\n369 done.\n370 done.\n371 done.\n372 done.\n373 done.\n374 done.\n375 done.\n376 done.\n377 done.\n378 done.\n379 done.\n380 done.\n381 done.\n382 done.\n383 done.\n384 done.\n385 done.\n386 done.\n387 done.\n388 done.\n389 done.\n390 done.\n391 done.\n392 done.\n393 done.\n394 done.\n395 done.\n396 done.\n397 done.\n398 done.\n399 done.\n400 done.\n(49983, 107, 20)\n(49983, 5)\n401 done.\n402 done.\n403 done.\n404 done.\n405 done.\n406 done.\n407 done.\n408 done.\n409 done.\n410 done.\n411 done.\n412 done.\n413 done.\n414 done.\n415 done.\n416 done.\n417 done.\n418 done.\n419 done.\n420 done.\n421 done.\n422 done.\n423 done.\n424 done.\n425 done.\n426 done.\n427 done.\n428 done.\n429 done.\n430 done.\n431 done.\n432 done.\n433 done.\n434 done.\n435 done.\n436 done.\n437 done.\n438 done.\n439 done.\n440 done.\n441 done.\n442 done.\n443 done.\n444 done.\n445 done.\n446 done.\n447 done.\n448 done.\n449 done.\n450 done.\n(53697, 107, 20)\n(53697, 5)\n451 done.\n452 done.\n453 done.\n454 done.\n455 done.\n456 done.\n457 done.\n458 done.\n459 done.\n460 done.\n461 done.\n462 done.\n463 done.\n464 done.\n465 done.\n466 done.\n467 done.\n468 done.\n469 done.\n470 done.\n471 done.\n472 done.\n473 done.\n474 done.\n475 done.\n476 done.\n477 done.\n478 done.\n479 done.\n480 done.\n481 done.\n482 done.\n483 done.\n484 done.\n485 done.\n486 done.\n487 done.\n488 done.\n489 done.\n490 done.\n491 done.\n492 done.\n493 done.\n494 done.\n495 done.\n496 done.\n497 done.\n498 done.\n499 done.\n500 done.\n(54289, 107, 20)\n(54289, 5)\n501 done.\n502 done.\n503 done.\n504 done.\n505 done.\n506 done.\n507 done.\n508 done.\n509 done.\n510 done.\n511 done.\n512 done.\n513 done.\n514 done.\n515 done.\n516 done.\n517 done.\n518 done.\n519 done.\n520 done.\n521 done.\n522 done.\n523 done.\n524 done.\n525 done.\n526 done.\n527 done.\n528 done.\n529 done.\n530 done.\n531 done.\n532 done.\n533 done.\n534 done.\n535 done.\n536 done.\n537 done.\n538 done.\n539 done.\n540 done.\n541 done.\n542 done.\n543 done.\n544 done.\n545 done.\n546 done.\n547 done.\n548 done.\n549 done.\n550 done.\n(53489, 107, 20)\n(53489, 5)\n551 done.\n552 done.\n553 done.\n554 done.\n555 done.\n556 done.\n557 done.\n558 done.\n559 done.\n560 done.\n561 done.\n562 done.\n563 done.\n564 done.\n565 done.\n566 done.\n567 done.\n568 done.\n569 done.\n570 done.\n571 done.\n572 done.\n(21141, 107, 20)\n(21141, 5)\n"
    }
   ],
   "source": [
    "data, labels = [], []\n",
    "\n",
    "for i in range(1, 573):\n",
    "    index = 0\n",
    "    raw = np.load(raw_data.format(i))\n",
    "    if len(raw) < W:\n",
    "        continue\n",
    "    while index + W + F < raw.shape[1]:\n",
    "        x = np.array(raw[:, index:index+W])\n",
    "        y = np.array(raw[0, index+W:index+W+F])\n",
    "        data.append(x)\n",
    "        labels.append(y)\n",
    "        index += 1\n",
    "\n",
    "    print('{} done.'.format(i))\n",
    "    if (i % 50 == 0) or (i == 572):\n",
    "        data = np.array(data)\n",
    "        labels = np.array(labels)\n",
    "        print(data.shape)\n",
    "        print(labels.shape)\n",
    "        np.save(dataset_file.format('x' + str(i)), data)\n",
    "        np.save(dataset_file.format('y' + str(i)), labels)\n",
    "        data, labels = [], []"
   ]
  },
  {
   "cell_type": "code",
   "execution_count": null,
   "metadata": {},
   "outputs": [],
   "source": []
  }
 ]
}