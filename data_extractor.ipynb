{
 "cells": [
  {
   "cell_type": "code",
   "execution_count": 1,
   "metadata": {},
   "outputs": [],
   "source": [
    "import pandas as pd\n",
    "import numpy as np\n",
    "import matplotlib as mpl\n",
    "import matplotlib.pyplot as plt\n",
    "from sklearn.preprocessing import MinMaxScaler\n",
    "import glob"
   ]
  },
  {
   "cell_type": "code",
   "execution_count": 2,
   "metadata": {},
   "outputs": [],
   "source": [
    "# reading the data into data frames using pandas\n",
    "\"\"\"\n",
    "stock_csv is a list of all stock CLOSE prices\n",
    "index_csv is a list of all indicies\n",
    "\"\"\"\n",
    "stock_csv = []\n",
    "index_csv = []\n",
    "i = 0\n",
    "for filename in glob.glob('data\\index\\*.csv'):\n",
    "    index = pd.read_csv(filename)[['<DTYYYYMMDD>','<CLOSE>','<OPEN>']]\n",
    "    if len(index) != 0:\n",
    "        index_csv.append(index)\n",
    "    i+=1\n",
    "\n",
    "for filename in glob.glob('data\\stocks\\*.csv'):\n",
    "    stock = pd.read_csv(filename)[['<DTYYYYMMDD>','<CLOSE>','<OPEN>', '<HIGH>', '<LOW>', '<VOL>']]\n",
    "    if len(stock) != 0:\n",
    "        stock_csv.append(stock)\n",
    "    i+=1"
   ]
  },
  {
   "cell_type": "code",
   "execution_count": 73,
   "metadata": {},
   "outputs": [
    {
     "name": "stdout",
     "output_type": "stream",
     "text": [
      "cutting old data...\n",
      "__Done__________________________\n",
      "number of stocks: 572\n",
      "number of indices: 51\n"
     ]
    }
   ],
   "source": [
    "### data cleaning\n",
    "stocks = []\n",
    "indices = []\n",
    "# delete short data , not updated data and constant data.\n",
    "for i in index_csv:\n",
    "    if len(i.values[:,1]) > 1000 and \\\n",
    "    i.values[:,0][len(i.values[:,0])-1] > 20190000 and \\\n",
    "    np.var(i.values[-500:,1]) > 200 and \\\n",
    "    np.var(i.values[:500,1]) > 200:\n",
    "        indices.append(i.values)\n",
    "for s in stock_csv:\n",
    "    if len(s.values[:,1]) > 700 and \\\n",
    "    s.values[:,0][len(s.values[:,0])-1] > 20190000 and \\\n",
    "    np.var(s.values[-500:,1]) > 200 and \\\n",
    "    np.var(s.values[:500,1]) > 200:\n",
    "        # creating daily return price\n",
    "        return_price = np.zeros(len(s.values))\n",
    "        return_price[1:] = (s.values[1:,1] - s.values[:-1,1])/s.values[:-1,1]\n",
    "        temp = s.values\n",
    "        temp[:,5] = return_price\n",
    "        stocks.append(temp)\n",
    "    \n",
    "stocks = np.array(stocks[15:]) # the first 15 were not good examples\n",
    "indices = np.array(indices)\n",
    "\n",
    "# date start point is : 20180600\n",
    "start_date = 20180600\n",
    "# firt cut off old indices , behind 2018 / 06 / 00\n",
    "print(\"cutting old data...\")\n",
    "for count,index in enumerate(indices):\n",
    "    del_index = 0\n",
    "    for count2,entry in enumerate(index):\n",
    "        if entry[0] >= start_date:\n",
    "            del_index = count2\n",
    "            break\n",
    "    indices[count] = indices[count][del_index:]\n",
    "# now the same for stocks\n",
    "for count,stock in enumerate(stocks):\n",
    "    del_index = 0\n",
    "    for count2,entry in enumerate(stock):\n",
    "        if entry[0] >= start_date:\n",
    "            del_index = count2\n",
    "            break\n",
    "    stocks[count] = stocks[count][del_index:]\n",
    "\n",
    "print(\"__Done__________________________\")\n",
    "print(f\"number of stocks: {len(stocks)}\")\n",
    "print(f\"number of indices: {len(indices)}\")"
   ]
  },
  {
   "cell_type": "code",
   "execution_count": 77,
   "metadata": {},
   "outputs": [
    {
     "data": {
      "text/plain": [
       "424"
      ]
     },
     "execution_count": 77,
     "metadata": {},
     "output_type": "execute_result"
    },
    {
     "data": {
      "image/png": "[encoded data removed]",
      "text/plain": [
       "<Figure size 432x288 with 1 Axes>"
      ]
     },
     "metadata": {
      "needs_background": "light"
     },
     "output_type": "display_data"
    }
   ],
   "source": [
    "plt.plot(stocks[0][:,1])\n",
    "len(stocks[0])"
   ]
  },
  {
   "cell_type": "code",
   "execution_count": 76,
   "metadata": {},
   "outputs": [],
   "source": [
    "np.save(\"markets\",indices)\n",
    "np.save(\"stocks_1\",stocks[:250])\n",
    "np.save(\"stocks_2\",stocks[250:])"
   ]
  },
  {
   "cell_type": "code",
   "execution_count": null,
   "metadata": {},
   "outputs": [],
   "source": []
  }
 ],
 "metadata": {
  "kernelspec": {
   "display_name": "Python 3",
   "language": "python",
   "name": "python3"
  },
  "language_info": {
   "codemirror_mode": {
    "name": "ipython",
    "version": 3
   },
   "file_extension": ".py",
   "mimetype": "text/x-python",
   "name": "python",
   "nbconvert_exporter": "python",
   "pygments_lexer": "ipython3",
   "version": "3.6.9"
  }
 },
 "nbformat": 4,
 "nbformat_minor": 4
}
