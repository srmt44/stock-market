{
 "cells": [
  {
   "cell_type": "code",
   "execution_count": 1,
   "metadata": {},
   "outputs": [],
   "source": [
    "import pandas as pd\n",
    "import numpy as np\n",
    "import tensorflow as tf\n",
    "from tensorflow import keras\n",
    "import matplotlib as mpl\n",
    "import matplotlib.pyplot as plt\n",
    "import glob"
   ]
  },
  {
   "cell_type": "code",
   "execution_count": 2,
   "metadata": {},
   "outputs": [
    {
     "name": "stdout",
     "output_type": "stream",
     "text": [
      "akhaber\n"
     ]
    },
    {
     "data": {
      "text/html": [
       "<div>\n",
       "<style scoped>\n",
       "    .dataframe tbody tr th:only-of-type {\n",
       "        vertical-align: middle;\n",
       "    }\n",
       "\n",
       "    .dataframe tbody tr th {\n",
       "        vertical-align: top;\n",
       "    }\n",
       "\n",
       "    .dataframe thead th {\n",
       "        text-align: right;\n",
       "    }\n",
       "</style>\n",
       "<table border=\"1\" class=\"dataframe\">\n",
       "  <thead>\n",
       "    <tr style=\"text-align: right;\">\n",
       "      <th></th>\n",
       "      <th>&lt;DTYYYYMMDD&gt;</th>\n",
       "      <th>&lt;OPEN&gt;</th>\n",
       "      <th>&lt;HIGH&gt;</th>\n",
       "      <th>&lt;LOW&gt;</th>\n",
       "      <th>&lt;CLOSE&gt;</th>\n",
       "      <th>&lt;VOL&gt;</th>\n",
       "      <th>&lt;OPENINT&gt;</th>\n",
       "      <th>&lt;OPENINT&gt;.1</th>\n",
       "      <th>&lt;OPENINT&gt;.2</th>\n",
       "    </tr>\n",
       "  </thead>\n",
       "  <tbody>\n",
       "    <tr>\n",
       "      <th>0</th>\n",
       "      <td>20080809</td>\n",
       "      <td>1500.0</td>\n",
       "      <td>1500.0</td>\n",
       "      <td>1500.0</td>\n",
       "      <td>1500.0</td>\n",
       "      <td>2230300000</td>\n",
       "      <td>3.345450e+12</td>\n",
       "      <td>19267</td>\n",
       "      <td>0.0</td>\n",
       "    </tr>\n",
       "    <tr>\n",
       "      <th>1</th>\n",
       "      <td>20080810</td>\n",
       "      <td>1545.0</td>\n",
       "      <td>1545.0</td>\n",
       "      <td>1545.0</td>\n",
       "      <td>1545.0</td>\n",
       "      <td>64168880</td>\n",
       "      <td>9.914092e+10</td>\n",
       "      <td>4389</td>\n",
       "      <td>1500.0</td>\n",
       "    </tr>\n",
       "    <tr>\n",
       "      <th>2</th>\n",
       "      <td>20080811</td>\n",
       "      <td>1591.0</td>\n",
       "      <td>1591.0</td>\n",
       "      <td>1553.0</td>\n",
       "      <td>1553.0</td>\n",
       "      <td>3380431</td>\n",
       "      <td>5.378265e+09</td>\n",
       "      <td>501</td>\n",
       "      <td>1545.0</td>\n",
       "    </tr>\n",
       "    <tr>\n",
       "      <th>3</th>\n",
       "      <td>20080812</td>\n",
       "      <td>1599.0</td>\n",
       "      <td>1599.0</td>\n",
       "      <td>1556.0</td>\n",
       "      <td>1556.0</td>\n",
       "      <td>1062213</td>\n",
       "      <td>1.698478e+09</td>\n",
       "      <td>296</td>\n",
       "      <td>1553.0</td>\n",
       "    </tr>\n",
       "    <tr>\n",
       "      <th>4</th>\n",
       "      <td>20080813</td>\n",
       "      <td>1602.0</td>\n",
       "      <td>1602.0</td>\n",
       "      <td>1563.0</td>\n",
       "      <td>1563.0</td>\n",
       "      <td>2628987</td>\n",
       "      <td>4.211637e+09</td>\n",
       "      <td>649</td>\n",
       "      <td>1556.0</td>\n",
       "    </tr>\n",
       "  </tbody>\n",
       "</table>\n",
       "</div>"
      ],
      "text/plain": [
       "   <DTYYYYMMDD>  <OPEN>  <HIGH>   <LOW>  <CLOSE>       <VOL>     <OPENINT>  \\\n",
       "0      20080809  1500.0  1500.0  1500.0   1500.0  2230300000  3.345450e+12   \n",
       "1      20080810  1545.0  1545.0  1545.0   1545.0    64168880  9.914092e+10   \n",
       "2      20080811  1591.0  1591.0  1553.0   1553.0     3380431  5.378265e+09   \n",
       "3      20080812  1599.0  1599.0  1556.0   1556.0     1062213  1.698478e+09   \n",
       "4      20080813  1602.0  1602.0  1563.0   1563.0     2628987  4.211637e+09   \n",
       "\n",
       "   <OPENINT>.1  <OPENINT>.2  \n",
       "0        19267          0.0  \n",
       "1         4389       1500.0  \n",
       "2          501       1545.0  \n",
       "3          296       1553.0  \n",
       "4          649       1556.0  "
      ]
     },
     "execution_count": 2,
     "metadata": {},
     "output_type": "execute_result"
    }
   ],
   "source": [
    "# reading the data into data frames using pandas\n",
    "\"\"\"\n",
    "data_csv is a list of 10 data frames holding a [2,] list for each symboL\n",
    "the first one (for example data_csv[i][0] ) is the name of the symbol and\n",
    "the second one (for example data_csv[i][1] ) is the data assosiated to it\n",
    "\"\"\"\n",
    "data_csv = []\n",
    "i = 0\n",
    "for filename in glob.glob('data/*.csv'):\n",
    "    data_csv.append([filename[5:len(filename)-4],pd.read_csv(filename).drop(\"<TICKER>\",1)])\n",
    "    i+=1\n",
    "print(data_csv[0][0])\n",
    "data_csv[0][1].head()"
   ]
  },
  {
   "cell_type": "code",
   "execution_count": 3,
   "metadata": {},
   "outputs": [],
   "source": [
    "# fix the data frame on which we will do prediction\n",
    "data_frame = 0\n",
    "data = data_csv[data_frame][1][['<OPEN>','<HIGH>','<LOW>','<CLOSE>','<VOL>']]\n",
    "data = data.values\n",
    "# normilize the data\n",
    "# data_mean = np.mean(data)\n",
    "# data_std = np.std(data)\n",
    "# data = (data - data_mean )/data_std"
   ]
  },
  {
   "cell_type": "code",
   "execution_count": 9,
   "metadata": {},
   "outputs": [],
   "source": [
    "def turn_to_windows(dataset,window_size,start,end,target):\n",
    "    start = window_size + start\n",
    "    if(end is None):\n",
    "        end = len(dataset)-window_size\n",
    "    \n",
    "    data = []\n",
    "    labels = []\n",
    "    for i in range(start,end):\n",
    "        indices = range(i-window_size,i)\n",
    "        data.append(dataset[indices])\n",
    "        labels.append(dataset[i:i+target,3])\n",
    "    return np.array(data),np.array(labels)"
   ]
  },
  {
   "cell_type": "code",
   "execution_count": 10,
   "metadata": {},
   "outputs": [],
   "source": [
    "window_size = 21     # past window of information\n",
    "target = 21          # number of future predictions\n",
    "end = int(len(data)*0.8)   # number of train set examples\n",
    "data_windowed,data_labels = turn_to_windows(data,window_size,0,end,target)\n",
    "val_windowed,val_labels = turn_to_windows(data,window_size,end,None,target)"
   ]
  },
  {
   "cell_type": "code",
   "execution_count": 26,
   "metadata": {},
   "outputs": [],
   "source": [
    "# predparing the data , in the form of tensors\n",
    "train_data = tf.data.Dataset.from_tensor_slices((data_windowed,data_labels))\n",
    "train_data = train_data.cache().shuffle(len(data_windowed)).batch(128).repeat()\n",
    "\n",
    "val_data = tf.data.Dataset.from_tensor_slices((val_windowed,val_labels))\n",
    "val_data = val_data.batch(128).shuffle(len(data_windowed)).repeat()"
   ]
  },
  {
   "cell_type": "code",
   "execution_count": 27,
   "metadata": {},
   "outputs": [],
   "source": [
    "# creating the model\n",
    "model = keras.models.Sequential()\n",
    "model.add(keras.layers.LSTM(10,return_sequences=True,input_shape=data_windowed.shape[-2:]))\n",
    "model.add(keras.layers.LSTM(5, activation='relu'))\n",
    "model.add(keras.layers.Dense(21))\n",
    "model.compile(optimizer=keras.optimizers.RMSprop(clipvalue=1.0), loss='mae')"
   ]
  },
  {
   "cell_type": "code",
   "execution_count": 28,
   "metadata": {},
   "outputs": [
    {
     "name": "stdout",
     "output_type": "stream",
     "text": [
      "Train for 128 steps, validate for 50 steps\n",
      "Epoch 1/5\n",
      "128/128 [==============================] - 10s 82ms/step - loss: 2432.7636 - val_loss: 2422.6881\n",
      "Epoch 2/5\n",
      "128/128 [==============================] - 5s 40ms/step - loss: 1148.7959 - val_loss: 872.4850\n",
      "Epoch 3/5\n",
      "128/128 [==============================] - 5s 41ms/step - loss: 597.2060 - val_loss: 548.2886\n",
      "Epoch 4/5\n",
      "128/128 [==============================] - 5s 41ms/step - loss: 450.1058 - val_loss: 515.3267\n",
      "Epoch 5/5\n",
      "128/128 [==============================] - 5s 40ms/step - loss: 429.8966 - val_loss: 491.8010\n"
     ]
    },
    {
     "data": {
      "text/plain": [
       "<tensorflow.python.keras.callbacks.History at 0x287a56d6160>"
      ]
     },
     "execution_count": 28,
     "metadata": {},
     "output_type": "execute_result"
    }
   ],
   "source": [
    "# training the model\n",
    "model.fit(train_data,epochs=5,steps_per_epoch=128,validation_data=val_data,validation_steps=50)"
   ]
  },
  {
   "cell_type": "code",
   "execution_count": 55,
   "metadata": {},
   "outputs": [
    {
     "name": "stdout",
     "output_type": "stream",
     "text": [
      "mean absolute error : 107.19862583705357\n"
     ]
    },
    {
     "data": {
      "image/png": "[encoded data removed]",
      "text/plain": [
       "<Figure size 432x288 with 1 Axes>"
      ]
     },
     "metadata": {
      "needs_background": "light"
     },
     "output_type": "display_data"
    }
   ],
   "source": [
    "for x,y in val_data.take(1):\n",
    "    pred=model.predict(x)\n",
    "    plt.plot(pred[0],label='pred')\n",
    "    plt.plot(y[1],label='real')\n",
    "    print(\"mean absolute error : \"+str( np.sum(abs(pred[0]-y[0])/len(pred[0])) ))\n",
    "    plt.legend()"
   ]
  },
  {
   "cell_type": "code",
   "execution_count": null,
   "metadata": {},
   "outputs": [],
   "source": []
  },
  {
   "cell_type": "code",
   "execution_count": null,
   "metadata": {},
   "outputs": [],
   "source": []
  }
 ],
 "metadata": {
  "kernelspec": {
   "display_name": "Python 3",
   "language": "python",
   "name": "python3"
  },
  "language_info": {
   "codemirror_mode": {
    "name": "ipython",
    "version": 3
   },
   "file_extension": ".py",
   "mimetype": "text/x-python",
   "name": "python",
   "nbconvert_exporter": "python",
   "pygments_lexer": "ipython3",
   "version": "3.6.9"
  }
 },
 "nbformat": 4,
 "nbformat_minor": 4
}
